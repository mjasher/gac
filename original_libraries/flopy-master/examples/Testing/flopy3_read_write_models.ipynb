{
 "metadata": {
  "name": "",
  "signature": "sha256:59d8491a089c88a64bb8012d72a3cb297744a84a059f7bc22e3ffee343cf0005"
 },
 "nbformat": 3,
 "nbformat_minor": 0,
 "worksheets": [
  {
   "cells": [
    {
     "cell_type": "markdown",
     "metadata": {},
     "source": [
      "#Read and write model files"
     ]
    },
    {
     "cell_type": "code",
     "collapsed": false,
     "input": [
      "import os\n",
      "import numpy as np\n",
      "import flopy"
     ],
     "language": "python",
     "metadata": {},
     "outputs": [],
     "prompt_number": 1
    },
    {
     "cell_type": "markdown",
     "metadata": {},
     "source": [
      "First, we need to create a model for test"
     ]
    },
    {
     "cell_type": "code",
     "collapsed": false,
     "input": [
      "base_dir = \"base_model_dir\"\n",
      "nlay, nrow, ncol = 1, 1, 10\n",
      "#ml = flopy.modflow.Modflow(modelname=\"base\", model_ws=base_dir,\n",
      "#                           external_path=\"ref\")\n",
      "ml = flopy.modflow.Modflow(modelname=\"base\", model_ws=base_dir,external_path=\"ref\")\n",
      "dis = flopy.modflow.ModflowDis(ml, nrow=1, ncol=10,\n",
      "                               nlay=nlay, nper=2, perlen=[1,1],\n",
      "                               steady=[True,True])\n",
      "bas = flopy.modflow.ModflowBas(ml, ibound=1)\n",
      "hk = np.zeros((nlay, nrow, ncol))+2.5\n",
      "#the full relative path to the external hk array\n",
      "#np.savetxt(os.path.join(base_dir,\"hk.ref\"),hk.flatten(),fmt=\"%15.6E\",delimiter='')\n",
      "\n",
      "# but we have to pass on the filename as the namefile sees it\n",
      "lpf = flopy.modflow.ModflowLpf(ml, hk=hk,vka=hk)\n",
      "\n",
      "well_data = {}\n",
      "well_data[0] = [0, 0, 9, 0.5]\n",
      "well_data[1] = [0, 0, 9, 1.0]\n",
      "wel = flopy.modflow.ModflowWel(ml, stress_period_data=well_data)\n",
      "\n",
      "ghb_data = {}\n",
      "ghb_data[0] = [0, 0, 0, 0.5, 1000.0]\n",
      "ghb = flopy.modflow.ModflowGhb(ml, stress_period_data=ghb_data)\n",
      "print ghb.stress_period_data.data\n",
      "ml.write_input()"
     ],
     "language": "python",
     "metadata": {},
     "outputs": [
      {
       "ename": "AssertionError",
       "evalue": "ERROR: external cannot be used with model_ws",
       "output_type": "pyerr",
       "traceback": [
        "\u001b[0;31m---------------------------------------------------------------------------\u001b[0m\n\u001b[0;31mAssertionError\u001b[0m                            Traceback (most recent call last)",
        "\u001b[0;32m<ipython-input-4-b85397f17e46>\u001b[0m in \u001b[0;36m<module>\u001b[0;34m()\u001b[0m\n\u001b[1;32m      3\u001b[0m \u001b[0;31m#ml = flopy.modflow.Modflow(modelname=\"base\", model_ws=base_dir,\u001b[0m\u001b[0;34m\u001b[0m\u001b[0;34m\u001b[0m\u001b[0m\n\u001b[1;32m      4\u001b[0m \u001b[0;31m#                           external_path=\"ref\")\u001b[0m\u001b[0;34m\u001b[0m\u001b[0;34m\u001b[0m\u001b[0m\n\u001b[0;32m----> 5\u001b[0;31m \u001b[0mml\u001b[0m \u001b[0;34m=\u001b[0m \u001b[0mflopy\u001b[0m\u001b[0;34m.\u001b[0m\u001b[0mmodflow\u001b[0m\u001b[0;34m.\u001b[0m\u001b[0mModflow\u001b[0m\u001b[0;34m(\u001b[0m\u001b[0mmodelname\u001b[0m\u001b[0;34m=\u001b[0m\u001b[0;34m\"base\"\u001b[0m\u001b[0;34m,\u001b[0m \u001b[0mmodel_ws\u001b[0m\u001b[0;34m=\u001b[0m\u001b[0mbase_dir\u001b[0m\u001b[0;34m,\u001b[0m\u001b[0mexternal_path\u001b[0m\u001b[0;34m=\u001b[0m\u001b[0;34m\"ref\"\u001b[0m\u001b[0;34m)\u001b[0m\u001b[0;34m\u001b[0m\u001b[0m\n\u001b[0m\u001b[1;32m      6\u001b[0m dis = flopy.modflow.ModflowDis(ml, nrow=1, ncol=10,\n\u001b[1;32m      7\u001b[0m                                \u001b[0mnlay\u001b[0m\u001b[0;34m=\u001b[0m\u001b[0mnlay\u001b[0m\u001b[0;34m,\u001b[0m \u001b[0mnper\u001b[0m\u001b[0;34m=\u001b[0m\u001b[0;36m2\u001b[0m\u001b[0;34m,\u001b[0m \u001b[0mperlen\u001b[0m\u001b[0;34m=\u001b[0m\u001b[0;34m[\u001b[0m\u001b[0;36m1\u001b[0m\u001b[0;34m,\u001b[0m\u001b[0;36m1\u001b[0m\u001b[0;34m]\u001b[0m\u001b[0;34m,\u001b[0m\u001b[0;34m\u001b[0m\u001b[0m\n",
        "\u001b[0;32m/Users/jwhite/anaconda/lib/python2.7/site-packages/flopy/modflow/mf.pyc\u001b[0m in \u001b[0;36m__init__\u001b[0;34m(self, modelname, namefile_ext, version, exe_name, listunit, model_ws, external_path, verbose, load, silent)\u001b[0m\n\u001b[1;32m    119\u001b[0m         \u001b[0;32mif\u001b[0m \u001b[0mexternal_path\u001b[0m \u001b[0;32mis\u001b[0m \u001b[0;32mnot\u001b[0m \u001b[0mNone\u001b[0m\u001b[0;34m:\u001b[0m\u001b[0;34m\u001b[0m\u001b[0m\n\u001b[1;32m    120\u001b[0m             \u001b[0;32massert\u001b[0m \u001b[0mmodel_ws\u001b[0m \u001b[0;34m==\u001b[0m \u001b[0;34m'.'\u001b[0m\u001b[0;34m,\u001b[0m \u001b[0;34m\"ERROR: external cannot be used \"\u001b[0m \u001b[0;34m+\u001b[0m\u001b[0;31m\\\u001b[0m\u001b[0;34m\u001b[0m\u001b[0m\n\u001b[0;32m--> 121\u001b[0;31m                 \u001b[0;34m\"with model_ws\"\u001b[0m\u001b[0;34m\u001b[0m\u001b[0m\n\u001b[0m\u001b[1;32m    122\u001b[0m \u001b[0;34m\u001b[0m\u001b[0m\n\u001b[1;32m    123\u001b[0m             \u001b[0;31m#external_path = os.path.join(model_ws, external_path)\u001b[0m\u001b[0;34m\u001b[0m\u001b[0;34m\u001b[0m\u001b[0m\n",
        "\u001b[0;31mAssertionError\u001b[0m: ERROR: external cannot be used with model_ws"
       ]
      }
     ],
     "prompt_number": 4
    },
    {
     "cell_type": "code",
     "collapsed": false,
     "input": [],
     "language": "python",
     "metadata": {},
     "outputs": [],
     "prompt_number": 2
    },
    {
     "cell_type": "markdown",
     "metadata": {},
     "source": [
      "Now, lets load the `base` model"
     ]
    },
    {
     "cell_type": "code",
     "collapsed": false,
     "input": [
      "ml_loaded = flopy.modflow.Modflow.load(\"base.nam\",model_ws=base_dir)"
     ],
     "language": "python",
     "metadata": {},
     "outputs": [
      {
       "output_type": "stream",
       "stream": "stdout",
       "text": [
        "\n",
        "Creating new model with name: base\n",
        "--------------------------------------------------\n",
        "\n",
        "   DIS  package load...success\n",
        "   LIST package load...skipped\n",
        "   BAS6 package load...success\n",
        "   LPF  package load...success\n",
        "   WEL  package load...success\n",
        "   GHB  package load...success\n",
        "\n",
        "\n",
        "   The following 5 packages were successfully loaded.\n",
        "      base.dis\n",
        "      base.bas\n",
        "      base.lpf\n",
        "      base.wel\n",
        "      base.ghb\n",
        "   The following 1 packages were not loaded.\n",
        "      base.list\n",
        "\n",
        "\n"
       ]
      }
     ],
     "prompt_number": 3
    },
    {
     "cell_type": "code",
     "collapsed": false,
     "input": [],
     "language": "python",
     "metadata": {},
     "outputs": []
    }
   ],
   "metadata": {}
  }
 ]
}