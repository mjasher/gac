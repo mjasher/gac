{
 "metadata": {
  "name": "",
  "signature": "sha256:81503c9f14763cdb5a86af8f7779571cffb1ba4e0cd9fee087c3888fcfb0b93e"
 },
 "nbformat": 3,
 "nbformat_minor": 0,
 "worksheets": [
  {
   "cells": [
    {
     "cell_type": "markdown",
     "metadata": {},
     "source": [
      "#load an existing model with external arrays and explicit `model_ws`\n",
      "First using `free_format` which results in `open/close`"
     ]
    },
    {
     "cell_type": "code",
     "collapsed": false,
     "input": [
      "import os\n",
      "import numpy as np\n",
      "import flopy\n",
      "\n",
      "starting_dir = os.getcwd()\n",
      "base_dir = \"base_model_dir\"\n",
      "if not os.path.exists(base_dir):\n",
      "    os.mkdir(base_dir)\n",
      "# change to base_dir    \n",
      "os.chdir(base_dir)    \n",
      "nlay, nrow, ncol = 1, 1, 10\n",
      "ml = flopy.modflow.Modflow(modelname=\"base\",external_path=\"ref\")\n",
      "dis = flopy.modflow.ModflowDis(ml, nrow=1, ncol=10,\n",
      "                               nlay=nlay, nper=2, perlen=[1,1],\n",
      "                               steady=[True,True])\n",
      "bas = flopy.modflow.ModflowBas(ml, ibound=1)\n",
      "hk = np.zeros((nlay, nrow, ncol))+2.5\n",
      "lpf = flopy.modflow.ModflowLpf(ml, hk=hk,vka=hk)\n",
      "\n",
      "well_data = {}\n",
      "well_data[0] = [0, 0, 9, 0.5]\n",
      "well_data[1] = [0, 0, 9, 1.0]\n",
      "wel = flopy.modflow.ModflowWel(ml, stress_period_data=well_data)\n",
      "\n",
      "ghb_data = {}\n",
      "ghb_data[0] = [0, 0, 0, 0.5, 1000.0]\n",
      "ghb = flopy.modflow.ModflowGhb(ml, stress_period_data=ghb_data)\n",
      "ml.write_input()\n",
      "# change back \n",
      "os.chdir(starting_dir)"
     ],
     "language": "python",
     "metadata": {},
     "outputs": [],
     "prompt_number": 1
    },
    {
     "cell_type": "markdown",
     "metadata": {},
     "source": [
      "Now load the model using `base_dir` as the `model_ws` arg"
     ]
    },
    {
     "cell_type": "code",
     "collapsed": false,
     "input": [
      "ml_loaded = flopy.modflow.Modflow.load(\"base.nam\",model_ws=base_dir)\n",
      "print ml_loaded.get_package(\"lpf\").hk.array\n",
      "ml_loaded.change_model_ws(\"new_dir\")\n",
      "ml_loaded.write_input()"
     ],
     "language": "python",
     "metadata": {},
     "outputs": [
      {
       "output_type": "stream",
       "stream": "stdout",
       "text": [
        "\n",
        "Creating new model with name: base\n",
        "--------------------------------------------------\n",
        "\n",
        "   DIS  package load...success\n",
        "   LIST package load...skipped\n",
        "   BAS6 package load...success\n",
        "   LPF  package load...success\n",
        "   WEL  package load...success\n",
        "   GHB  package load...success\n",
        "\n",
        "\n",
        "   The following 5 packages were successfully loaded.\n",
        "      base.dis\n",
        "      base.bas\n",
        "      base.lpf\n",
        "      base.wel\n",
        "      base.ghb\n",
        "   The following 1 packages were not loaded.\n",
        "      base.list\n",
        "\n",
        "\n",
        "[[[ 2.5  2.5  2.5  2.5  2.5  2.5  2.5  2.5  2.5  2.5]]]\n",
        "\n",
        "creating model workspace...\n",
        "   new_dir\n",
        "\n",
        "changing model workspace...\n",
        "   new_dir\n"
       ]
      }
     ],
     "prompt_number": 2
    },
    {
     "cell_type": "markdown",
     "metadata": {},
     "source": []
    },
    {
     "cell_type": "markdown",
     "metadata": {},
     "source": [
      "Now without `free_format` which results in old-style control records and unit numbers in the `nam` file"
     ]
    },
    {
     "cell_type": "code",
     "collapsed": false,
     "input": [
      "base_dir = \"base_model_dir\"\n",
      "if not os.path.exists(base_dir):\n",
      "    os.mkdir(base_dir)\n",
      "# change to base_dir    \n",
      "os.chdir(base_dir)    \n",
      "nlay, nrow, ncol = 1, 1, 10\n",
      "ml = flopy.modflow.Modflow(modelname=\"base\",external_path=\"ref\")\n",
      "ml.free_format = False\n",
      "dis = flopy.modflow.ModflowDis(ml, nrow=1, ncol=10,\n",
      "                               nlay=nlay, nper=2, perlen=[1,1],\n",
      "                               steady=[True,True])\n",
      "bas = flopy.modflow.ModflowBas(ml, ibound=1)\n",
      "hk = np.zeros((nlay, nrow, ncol))+2.5\n",
      "lpf = flopy.modflow.ModflowLpf(ml, hk=hk,vka=hk)\n",
      "\n",
      "well_data = {}\n",
      "well_data[0] = [0, 0, 9, 0.5]\n",
      "well_data[1] = [0, 0, 9, 1.0]\n",
      "wel = flopy.modflow.ModflowWel(ml, stress_period_data=well_data)\n",
      "\n",
      "ghb_data = {}\n",
      "ghb_data[0] = [0, 0, 0, 0.5, 1000.0]\n",
      "ghb = flopy.modflow.ModflowGhb(ml, stress_period_data=ghb_data)\n",
      "ml.write_input()\n",
      "# change back \n",
      "os.chdir(\"..\")"
     ],
     "language": "python",
     "metadata": {},
     "outputs": [
      {
       "output_type": "stream",
       "stream": "stdout",
       "text": [
        "Note: external_path ref already exists\n"
       ]
      }
     ],
     "prompt_number": 3
    },
    {
     "cell_type": "code",
     "collapsed": false,
     "input": [
      "ml_loaded = flopy.modflow.Modflow.load(\"base.nam\",model_ws=base_dir)\n",
      "print ml_loaded.get_package(\"lpf\").hk.array\n",
      "ml_loaded.change_model_ws(\"new_dir2\")\n",
      "ml_loaded.write_input()"
     ],
     "language": "python",
     "metadata": {},
     "outputs": [
      {
       "output_type": "stream",
       "stream": "stdout",
       "text": [
        "\n",
        "Creating new model with name: base\n",
        "--------------------------------------------------\n",
        "\n",
        "   DIS  package load...success\n",
        "   LIST package load...skipped\n",
        "   DATA file load...skipped\n",
        "      hk_Layer_1.ref\n",
        "   DATA file load...skipped\n",
        "      vka_Layer_1.ref\n",
        "   BAS6 package load...success\n",
        "   LPF  package load...success\n",
        "   WEL  package load...success\n",
        "   GHB  package load...success\n",
        "\n",
        "\n",
        "   The following 5 packages were successfully loaded.\n",
        "      base.dis\n",
        "      base.bas\n",
        "      base.lpf\n",
        "      base.wel\n",
        "      base.ghb\n",
        "   The following 1 packages were not loaded.\n",
        "      base.list\n",
        "\n",
        "\n",
        "[[[ 2.5  2.5  2.5  2.5  2.5  2.5  2.5  2.5  2.5  2.5]]]\n",
        "\n",
        "creating model workspace...\n",
        "   new_dir2\n",
        "\n",
        "changing model workspace...\n",
        "   new_dir2\n"
       ]
      }
     ],
     "prompt_number": 4
    },
    {
     "cell_type": "code",
     "collapsed": false,
     "input": [],
     "language": "python",
     "metadata": {},
     "outputs": []
    }
   ],
   "metadata": {}
  }
 ]
}