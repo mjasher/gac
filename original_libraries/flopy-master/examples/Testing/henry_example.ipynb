{
 "metadata": {
  "name": "",
  "signature": "sha256:82a7440c3ffa329cf5ea19c89668c45b7914f8beb8b3537f30c0d83db6a2b878"
 },
 "nbformat": 3,
 "nbformat_minor": 0,
 "worksheets": [
  {
   "cells": [
    {
     "cell_type": "markdown",
     "metadata": {},
     "source": [
      "#Henry problem example\n",
      "use flopy to create a 2-D cross section SEAWAT model patterned after the Henry saltwater intrusion problem.  The has two stress periods: a steady-state first period followed by a transient second period with no freshwater inflow"
     ]
    },
    {
     "cell_type": "code",
     "collapsed": false,
     "input": [
      "import os\n",
      "import numpy as np\n",
      "import flopy"
     ],
     "language": "python",
     "metadata": {},
     "outputs": [],
     "prompt_number": 13
    },
    {
     "cell_type": "markdown",
     "metadata": {},
     "source": [
      "Setup the basic dir structure.  Since we are using external arrays, we have to change into the `model_ws` dir."
     ]
    },
    {
     "cell_type": "code",
     "collapsed": false,
     "input": [
      "starting_ws = os.getcwd()\n",
      "model_ws = \"henry\"\n",
      "if not os.path.exists(model_ws):\n",
      "    os.mkdir(model_ws)\n",
      "# change to base_dir to write the model files\n",
      "os.chdir(model_ws)"
     ],
     "language": "python",
     "metadata": {},
     "outputs": [],
     "prompt_number": 14
    },
    {
     "cell_type": "markdown",
     "metadata": {},
     "source": [
      "#MODFLOW\n",
      "Now we can create the `MODFLOW` instance and associated package.  Setting `free_format` to `False` forces external arrays to have a `nam` file unit"
     ]
    },
    {
     "cell_type": "code",
     "collapsed": false,
     "input": [
      "ml = flopy.modflow.Modflow(modelname=\"henry\", external_path=\"ref\")\n",
      "ml.free_format = False"
     ],
     "language": "python",
     "metadata": {},
     "outputs": [
      {
       "output_type": "stream",
       "stream": "stdout",
       "text": [
        "Note: external_path ref already exists\n"
       ]
      }
     ],
     "prompt_number": 15
    },
    {
     "cell_type": "markdown",
     "metadata": {},
     "source": [
      "`DIS` package"
     ]
    },
    {
     "cell_type": "code",
     "collapsed": false,
     "input": [
      "nlay, nrow, ncol = 20, 1, 120\n",
      "delr, delc = 0.1, 1.0\n",
      "delz = 0.1\n",
      "botm = np.linspace(-delz, -float(nlay)*delz, nlay)\n",
      "dis = flopy.modflow.ModflowDis(ml, nrow=nrow, ncol=ncol,\n",
      "                               nlay=nlay, nper=2, perlen=[1,0.33],\n",
      "                               steady=[True, False], delr=delr,\n",
      "                               delc=delc, botm=botm, top=0.0)"
     ],
     "language": "python",
     "metadata": {},
     "outputs": [],
     "prompt_number": 16
    },
    {
     "cell_type": "markdown",
     "metadata": {},
     "source": [
      "`BAS` package"
     ]
    },
    {
     "cell_type": "code",
     "collapsed": false,
     "input": [
      "bas = flopy.modflow.ModflowBas(ml, ibound=1, strt=0.0)"
     ],
     "language": "python",
     "metadata": {},
     "outputs": [],
     "prompt_number": 17
    },
    {
     "cell_type": "markdown",
     "metadata": {},
     "source": [
      "`LPF` package using external arrays for `hk` and `vka`"
     ]
    },
    {
     "cell_type": "code",
     "collapsed": false,
     "input": [
      "hk = np.zeros((nlay, nrow, ncol))+200.0\n",
      "lpf = flopy.modflow.ModflowLpf(ml, hk=hk, vka=hk, ss=1.0E-5, sy=0.15, laytyp=1)"
     ],
     "language": "python",
     "metadata": {},
     "outputs": [],
     "prompt_number": 18
    },
    {
     "cell_type": "markdown",
     "metadata": {},
     "source": [
      "`WEL`, `GHB` and `PCG` packages.  `WEL`'s are set along the left side of the domain to represent freshwater inflow and `GHB`'s are set along the right side of the domain to represent a saltwater boundary.  Also track `SSM` entries for later"
     ]
    },
    {
     "cell_type": "code",
     "collapsed": false,
     "input": [
      "well_data, ghb_data, ssm_data = {}, {}, {}\n",
      "wel_1, ghb_1, ssm_1 = [], [], []\n",
      "itype = flopy.mt3d.Mt3dSsm.itype_dict()\n",
      "for k in xrange(nlay):\n",
      "    wel_1.append([k, 0, 0, 0.2])\n",
      "    ssm_1.append([k, 0, 0, 0.0, itype[\"WEL\"]])\n",
      "    ghb_1.append([k, 0, ncol-1, 0.0, 1.0E+3])\n",
      "    ssm_1.append([k, 0, ncol-1, 1.0, itype[\"GHB\"]])\n",
      "ghb_data[0] = ghb_1\n",
      "well_data[0] = wel_1\n",
      "#--turn off the freshwater flux in sp 2\n",
      "well_data[1] = 0\n",
      "ssm_data[0] = ssm_1\n",
      "\n",
      "ghb = flopy.modflow.ModflowGhb(ml, stress_period_data=ghb_data)\n",
      "wel = flopy.modflow.ModflowWel(ml, stress_period_data=well_data)\n",
      "pcg = flopy.modflow.ModflowPcg(ml,)"
     ],
     "language": "python",
     "metadata": {},
     "outputs": [],
     "prompt_number": 19
    },
    {
     "cell_type": "markdown",
     "metadata": {},
     "source": [
      "write the `modflow` input"
     ]
    },
    {
     "cell_type": "code",
     "collapsed": false,
     "input": [
      "ml.write_input()"
     ],
     "language": "python",
     "metadata": {},
     "outputs": [],
     "prompt_number": 20
    },
    {
     "cell_type": "markdown",
     "metadata": {},
     "source": [
      "#MT3DMS and SEAWAT\n",
      "Pretty basic - mostly relying on default `arg` values"
     ]
    },
    {
     "cell_type": "code",
     "collapsed": false,
     "input": [
      "mt = flopy.mt3d.Mt3dms(\"henry\", namefile_ext=\"nam_mt\", modflowmodel=ml,\n",
      "                       external_path=\"ref\")#,model_ws=model_ws)\n",
      "btn = flopy.mt3d.Mt3dBtn(mt)\n",
      "adv = flopy.mt3d.Mt3dAdv(mt, mixelm=0)\n",
      "ssm = flopy.mt3d.Mt3dSsm(mt, stress_period_data=ssm_data)\n",
      "gcg = flopy.mt3d.Mt3dGcg(mt)\n",
      "mt.write_input()\n",
      "\n",
      "swt = flopy.seawat.Seawat(modelname=\"henry\", namefile_ext=\"nam_swt\", \n",
      "                          modflowmodel=ml, mt3dmsmodel=mt)#,model_ws=model_ws)\n",
      "vdf = flopy.seawat.SeawatVdf(swt, densemin=0.0, densemax=0.0, denseslp=24.5)\n",
      "swt.write_input()"
     ],
     "language": "python",
     "metadata": {},
     "outputs": [
      {
       "output_type": "stream",
       "stream": "stdout",
       "text": [
        "Note: external_path ref already exists\n"
       ]
      }
     ],
     "prompt_number": 21
    },
    {
     "cell_type": "markdown",
     "metadata": {},
     "source": [
      "change back to the original dir"
     ]
    },
    {
     "cell_type": "code",
     "collapsed": false,
     "input": [
      "os.chdir(starting_ws)"
     ],
     "language": "python",
     "metadata": {},
     "outputs": [],
     "prompt_number": 22
    },
    {
     "cell_type": "markdown",
     "metadata": {},
     "source": [
      "verify that we can load the `modflow`"
     ]
    },
    {
     "cell_type": "code",
     "collapsed": false,
     "input": [
      "ml_loaded = flopy.modflow.Modflow.load(\"henry.nam\", model_ws=model_ws)\n",
      "ml_loaded.change_model_ws(\"new_henry\")\n",
      "ml_loaded.write_input()"
     ],
     "language": "python",
     "metadata": {},
     "outputs": [
      {
       "output_type": "stream",
       "stream": "stdout",
       "text": [
        "\n",
        "Creating new model with name: henry\n",
        "--------------------------------------------------\n",
        "\n",
        "   DIS  package load...success\n",
        "   DATA file load...skipped\n",
        "      vka_Layer_12.ref\n",
        "   DATA file load...skipped\n",
        "      hk_Layer_13.ref\n",
        "   LIST package load...skipped\n",
        "   DATA file load...skipped\n",
        "      hk_Layer_14.ref\n",
        "   DATA file load...skipped\n",
        "      vka_Layer_14.ref\n",
        "   DATA file load...skipped\n",
        "      hk_Layer_15.ref\n",
        "   DATA file load...skipped\n",
        "      vka_Layer_15.ref\n",
        "   DATA file load...skipped\n",
        "      hk_Layer_16.ref\n",
        "   DATA file load...skipped\n",
        "      vka_Layer_16.ref\n",
        "   DATA file load...skipped\n",
        "      hk_Layer_17.ref\n",
        "   DATA file load...skipped\n",
        "      vka_Layer_17.ref\n",
        "   DATA file load...skipped\n",
        "      vka_Layer_18.ref\n",
        "   BAS6 package load...success\n",
        "   DATA file load...skipped\n",
        "      vka_Layer_19.ref\n",
        "   LPF  package load...success\n",
        "   DATA file load...skipped\n",
        "      vka_Layer_20.ref\n",
        "   WEL  package load...success\n",
        "   GHB  package load...success\n",
        "   PCG  package load...success\n",
        "   DATA file load...skipped\n",
        "      hk_Layer_18.ref\n",
        "   DATA file load...skipped\n",
        "      hk_Layer_19.ref\n",
        "   DATA file load...skipped\n",
        "      hk_Layer_20.ref\n",
        "   DATA file load...skipped\n",
        "      vka_Layer_13.ref\n",
        "   DATA file load...skipped\n",
        "      hk_Layer_1.ref\n",
        "   DATA file load...skipped\n",
        "      vka_Layer_1.ref\n",
        "   DATA file load...skipped\n",
        "      hk_Layer_2.ref\n",
        "   DATA file load...skipped\n",
        "      vka_Layer_2.ref\n",
        "   DATA file load...skipped\n",
        "      hk_Layer_3.ref\n",
        "   DATA file load...skipped\n",
        "      vka_Layer_3.ref\n",
        "   DATA file load...skipped\n",
        "      hk_Layer_4.ref\n",
        "   DATA file load...skipped\n",
        "      vka_Layer_4.ref\n",
        "   DATA file load...skipped\n",
        "      hk_Layer_5.ref\n",
        "   DATA file load...skipped\n",
        "      vka_Layer_5.ref\n",
        "   DATA file load...skipped\n",
        "      hk_Layer_6.ref\n",
        "   DATA file load...skipped\n",
        "      vka_Layer_6.ref\n",
        "   DATA file load...skipped\n",
        "      hk_Layer_7.ref\n",
        "   DATA file load...skipped\n",
        "      vka_Layer_7.ref\n",
        "   DATA file load...skipped\n",
        "      hk_Layer_8.ref\n",
        "   DATA file load...skipped\n",
        "      vka_Layer_8.ref\n",
        "   DATA file load...skipped\n",
        "      hk_Layer_9.ref\n",
        "   DATA file load...skipped\n",
        "      vka_Layer_9.ref\n",
        "   DATA file load...skipped\n",
        "      hk_Layer_10.ref\n",
        "   DATA file load...skipped\n",
        "      vka_Layer_10.ref\n",
        "   DATA file load...skipped\n",
        "      hk_Layer_11.ref\n",
        "   DATA file load...skipped\n",
        "      vka_Layer_11.ref\n",
        "   DATA file load...skipped\n",
        "      hk_Layer_12.ref\n",
        "\n",
        "\n",
        "   The following 6 packages were successfully loaded.\n",
        "      henry.dis\n",
        "      henry.bas\n",
        "      henry.lpf\n",
        "      henry.wel\n",
        "      henry.ghb\n",
        "      henry.pcg\n",
        "   The following 1 packages were not loaded.\n",
        "      henry.list\n",
        "\n",
        "\n",
        "\n",
        "changing model workspace...\n",
        "   new_henry\n"
       ]
      }
     ],
     "prompt_number": 23
    },
    {
     "cell_type": "code",
     "collapsed": false,
     "input": [
      "print ml_loaded.get_package(\"lpf\").hk.array"
     ],
     "language": "python",
     "metadata": {},
     "outputs": [
      {
       "output_type": "stream",
       "stream": "stdout",
       "text": [
        "[[[ 200.  200.  200. ...,  200.  200.  200.]]\n",
        "\n",
        " [[ 200.  200.  200. ...,  200.  200.  200.]]\n",
        "\n",
        " [[ 200.  200.  200. ...,  200.  200.  200.]]\n",
        "\n",
        " ..., \n",
        " [[ 200.  200.  200. ...,  200.  200.  200.]]\n",
        "\n",
        " [[ 200.  200.  200. ...,  200.  200.  200.]]\n",
        "\n",
        " [[ 200.  200.  200. ...,  200.  200.  200.]]]\n"
       ]
      }
     ],
     "prompt_number": 24
    }
   ],
   "metadata": {}
  }
 ]
}