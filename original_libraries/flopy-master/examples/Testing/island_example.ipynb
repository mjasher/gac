{
 "metadata": {
  "name": "",
  "signature": "sha256:90275a34e31a088be61dc1c8bf9bcdf2202e875108a6c0e2eae4e5da2efd4020"
 },
 "nbformat": 3,
 "nbformat_minor": 0,
 "worksheets": [
  {
   "cells": [
    {
     "cell_type": "code",
     "collapsed": false,
     "input": [
      "%load_ext autoreload\n",
      "%autoreload 2\n",
      "import numpy as np\n",
      "import matplotlib.pyplot as plt\n",
      "%matplotlib inline\n",
      "import os\n",
      "import sys\n",
      "flopypth = os.path.join('..', '..', '..', 'flopy')\n",
      "if flopypth not in sys.path:\n",
      "    sys.path.append(flopypth)\n",
      "import flopy.modflow as mf\n",
      "import flopy.mt3d as mt\n",
      "import flopy.seawat as swt\n",
      "import flopy.utils as fu"
     ],
     "language": "python",
     "metadata": {},
     "outputs": [],
     "prompt_number": 1
    },
    {
     "cell_type": "code",
     "collapsed": false,
     "input": [
      "name = 'island'\n",
      "mf_model = mf.Modflow(modelname = name)"
     ],
     "language": "python",
     "metadata": {},
     "outputs": [],
     "prompt_number": 2
    },
    {
     "cell_type": "code",
     "collapsed": false,
     "input": [
      "L = 1000.\n",
      "nlay = 20\n",
      "nrow = 1\n",
      "ncol = 100\n",
      "delr = L / ncol \n",
      "H = 20.\n",
      "delz = H / nlay\n",
      "top = np.ones((1, ncol)) * delz / 2.\n",
      "top[0, 10:-10] += delz / 2.\n",
      "botm = np.linspace(-delz / 2., -H + delz / 2., nlay)\n",
      "perlen = 7300\n",
      "dis = mf.ModflowDis(mf_model, nlay, nrow, ncol, delr = delr, delc = 1, \n",
      "                    top = top, botm = botm, laycbd = 0, perlen = perlen, \n",
      "                    nstp = 730, steady = False)"
     ],
     "language": "python",
     "metadata": {},
     "outputs": [],
     "prompt_number": 3
    },
    {
     "cell_type": "code",
     "collapsed": false,
     "input": [
      "ibound = np.ones((nlay, nrow, ncol))\n",
      "ibound[0, 0, :10] = -1\n",
      "ibound[0, 0, 90:] = -1\n",
      "bas = mf.ModflowBas(mf_model, ibound = ibound, strt = 0.0)"
     ],
     "language": "python",
     "metadata": {},
     "outputs": [],
     "prompt_number": 4
    },
    {
     "cell_type": "code",
     "collapsed": false,
     "input": [
      "lpf = mf.ModflowLpf(mf_model, hk = 100.0)"
     ],
     "language": "python",
     "metadata": {},
     "outputs": [],
     "prompt_number": 5
    },
    {
     "cell_type": "code",
     "collapsed": false,
     "input": [
      "rech = np.zeros((nrow, ncol))\n",
      "rech[0, (ibound[0, 0, :] == 1)] = 2e-3\n",
      "rch = mf.ModflowRch(mf_model, rech = rech)"
     ],
     "language": "python",
     "metadata": {},
     "outputs": [],
     "prompt_number": 6
    },
    {
     "cell_type": "code",
     "collapsed": false,
     "input": [
      "pcg = mf.ModflowPcg(mf_model)\n",
      "oc = mf.ModflowOc(mf_model) \n",
      "mf_model.write_input()\n",
      "#mf_model.run_model2()"
     ],
     "language": "python",
     "metadata": {},
     "outputs": [],
     "prompt_number": 7
    },
    {
     "cell_type": "code",
     "collapsed": false,
     "input": [
      "mt_model = mt.Mt3dms(name, 'nam_mt3dms', mf_model)"
     ],
     "language": "python",
     "metadata": {},
     "outputs": [],
     "prompt_number": 8
    },
    {
     "cell_type": "code",
     "collapsed": false,
     "input": [
      "adv = mt.Mt3dAdv(mt_model, mixelm = 0, percel = 1.)"
     ],
     "language": "python",
     "metadata": {},
     "outputs": [],
     "prompt_number": 9
    },
    {
     "cell_type": "code",
     "collapsed": false,
     "input": [
      "sconc_1 = np.ones([nlay, nrow, ncol]) * 35.7\n",
      "timprs = np.arange(1, perlen, 100)\n",
      "btn = mt.Mt3dBtn(mt_model, ncomp = 1, sconc = [sconc_1], prsity = 0.25, timprs = timprs)"
     ],
     "language": "python",
     "metadata": {},
     "outputs": [],
     "prompt_number": 10
    },
    {
     "cell_type": "code",
     "collapsed": false,
     "input": [
      "dsp = mt.Mt3dDsp(mt_model, al = 0.1, dmcoef = 5e-10 * 3600. * 24.)"
     ],
     "language": "python",
     "metadata": {},
     "outputs": [],
     "prompt_number": 11
    },
    {
     "cell_type": "code",
     "collapsed": false,
     "input": [
      "gcg = mt.Mt3dGcg(mt_model, cclose = 1e-8)"
     ],
     "language": "python",
     "metadata": {},
     "outputs": [],
     "prompt_number": 12
    },
    {
     "cell_type": "code",
     "collapsed": false,
     "input": [
      "crch = [0.001]\n",
      "sp_data = []\n",
      "for c in range(10):\n",
      "    dd = np.array([0, 0, c, 0, 1])\n",
      "    sp_data.append(dd)\n",
      "for c in range(90, 100):\n",
      "    dd = np.array([0, 0, c, 0, 1])\n",
      "    sp_data.append(dd)\n",
      "\n",
      "ssm = mt.Mt3dSsm(mt_model, crch = crch, stress_period_data = sp_data)\n",
      "\n",
      "mt_model.write_input()\n"
     ],
     "language": "python",
     "metadata": {},
     "outputs": [
      {
       "output_type": "stream",
       "stream": "stderr",
       "text": [
        "..\\..\\..\\flopy\\flopy\\mt3d\\mtbtn.py:282: FutureWarning: comparison to `None` will result in an elementwise object comparison in the future.\n",
        "  if (self.timprs == None):\n"
       ]
      }
     ],
     "prompt_number": 13
    },
    {
     "cell_type": "code",
     "collapsed": false,
     "input": [
      "swt_model = swt.Seawat(name, 'nam_swt', mf_model, mt_model) # Coupled to modflow model mf and mt3dms model mt\n",
      "\n",
      "vdf = swt.SeawatVdf(swt_model, firstdt = 0.1, denseslp = .7)\n",
      "\n",
      "swt_model.write_input()"
     ],
     "language": "python",
     "metadata": {},
     "outputs": [],
     "prompt_number": 17
    },
    {
     "cell_type": "code",
     "collapsed": false,
     "input": [
      "conc = fu.UcnFile('MT3D001.UCN')\n",
      "c = conc.get_data(totim = 7300)\n",
      "\n",
      "y, x, z = dis.get_node_coordinates()\n",
      "X, Z = np.meshgrid(x, z[:, 0, 0])\n",
      "plt.contourf(X, Z, c[:, 0, :])"
     ],
     "language": "python",
     "metadata": {},
     "outputs": [
      {
       "metadata": {},
       "output_type": "pyout",
       "prompt_number": 16,
       "text": [
        "<matplotlib.contour.QuadContourSet instance at 0x000000000B30F088>"
       ]
      },
      {
       "metadata": {},
       "output_type": "display_data",
       "png": "[encoded data removed]",
       "text": [
        "<matplotlib.figure.Figure at 0xa5bf8d0>"
       ]
      }
     ],
     "prompt_number": 16
    },
    {
     "cell_type": "code",
     "collapsed": false,
     "input": [],
     "language": "python",
     "metadata": {},
     "outputs": []
    }
   ],
   "metadata": {}
  }
 ]
}