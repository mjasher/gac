{
 "metadata": {
  "name": "",
  "signature": "sha256:d94ecc52ce33ea95a14c5dd8ab43c2361273948eae2219d6c8a89b6de00bc590"
 },
 "nbformat": 3,
 "nbformat_minor": 0,
 "worksheets": [
  {
   "cells": [
    {
     "cell_type": "markdown",
     "metadata": {},
     "source": [
      "#Demo for new kwargs-based ncomp"
     ]
    },
    {
     "cell_type": "code",
     "collapsed": false,
     "input": [
      "import numpy as np\n",
      "import flopy\n",
      "reload(flopy)\n",
      "from flopy.modflow import *\n",
      "from flopy.mt3d import *"
     ],
     "language": "python",
     "metadata": {},
     "outputs": []
    },
    {
     "cell_type": "code",
     "collapsed": false,
     "input": [
      "nlay, nrow, ncol = 3, 10, 10\n",
      "ml = Modflow(\"test\")\n",
      "dis = ModflowDis(ml,nlay=nlay, nrow=nrow, ncol=ncol)\n"
     ],
     "language": "python",
     "metadata": {},
     "outputs": []
    },
    {
     "cell_type": "markdown",
     "metadata": {},
     "source": [
      "for btn, `sconc` is passed as a normal `util_3d`-compatible argument, no need for the list anymore"
     ]
    },
    {
     "cell_type": "code",
     "collapsed": false,
     "input": [
      "mt = Mt3dms(modflowmodel=ml)\n",
      "btn = Mt3dBtn(mt,sconc=1.0,ncomp=2)"
     ],
     "language": "python",
     "metadata": {},
     "outputs": []
    },
    {
     "cell_type": "markdown",
     "metadata": {},
     "source": [
      "or we pass in the `sconc2` kwarg explicitly"
     ]
    },
    {
     "cell_type": "code",
     "collapsed": false,
     "input": [
      "mt = Mt3dms(modflowmodel=ml)\n",
      "btn = Mt3dBtn(mt,sconc=1.0,ncomp=2,sconc2=1.5)\n",
      "print btn.sconc[1].name_base"
     ],
     "language": "python",
     "metadata": {},
     "outputs": []
    },
    {
     "cell_type": "markdown",
     "metadata": {},
     "source": [
      "error raised for unrecognized kwargs"
     ]
    },
    {
     "cell_type": "code",
     "collapsed": false,
     "input": [
      "mt = Mt3dms(modflowmodel=ml)\n",
      "btn = Mt3dBtn(mt,sconc=1.0,ncomp=2,sconc3=1.5)"
     ],
     "language": "python",
     "metadata": {},
     "outputs": []
    },
    {
     "cell_type": "markdown",
     "metadata": {},
     "source": [
      "same behavior for `SSM`"
     ]
    },
    {
     "cell_type": "code",
     "collapsed": false,
     "input": [
      "mt = Mt3dms(modflowmodel=ml)\n",
      "btn = Mt3dBtn(mt,sconc=1.0,ncomp=2,sconc2=1.5)\n",
      "ssm = Mt3dSsm(mt,crch=1.0,crch2=1.0,cevt=0.5,cevt2=1.5)\n",
      "print ssm.crch,ssm.cevt"
     ],
     "language": "python",
     "metadata": {},
     "outputs": []
    },
    {
     "cell_type": "markdown",
     "metadata": {},
     "source": [
      "`DSP` still needs to `multDiff` flag"
     ]
    },
    {
     "cell_type": "code",
     "collapsed": false,
     "input": [
      "dsp = Mt3dDsp(mt,dmcoef2=1.0)"
     ],
     "language": "python",
     "metadata": {},
     "outputs": []
    },
    {
     "cell_type": "code",
     "collapsed": false,
     "input": [
      "dsp = Mt3dDsp(mt,dmcoef2=1.0,multiDiff=True)\n",
      "print dsp.dmcoef"
     ],
     "language": "python",
     "metadata": {},
     "outputs": []
    },
    {
     "cell_type": "code",
     "collapsed": false,
     "input": [],
     "language": "python",
     "metadata": {},
     "outputs": []
    }
   ],
   "metadata": {}
  }
 ]
}