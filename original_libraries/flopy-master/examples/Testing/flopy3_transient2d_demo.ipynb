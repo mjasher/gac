{
 "metadata": {
  "name": "",
  "signature": "sha256:f2ea643377998e0a535c36db4ff145f215df697a6b130f81e3c69cb102e4dd79"
 },
 "nbformat": 3,
 "nbformat_minor": 0,
 "worksheets": [
  {
   "cells": [
    {
     "cell_type": "markdown",
     "metadata": {},
     "source": [
      "#transient_2d\n",
      "The `transient_2d` class is a collection of `util_2d` instances that are time-dependent for packages like `RCH`, `EVT`, and `SSM`.  It is instantiated similar to `mflist` in that it can take a dict keyed on kper with value pairs that can be parsed into `util_2d` instances.  It will accept a mixture of filename, `ndarrays`, and scalars."
     ]
    },
    {
     "cell_type": "code",
     "collapsed": false,
     "input": [
      "import numpy as np\n",
      "from flopy.modflow import Modflow\n",
      "from flopy.utils.util_array import transient_2d"
     ],
     "language": "python",
     "metadata": {},
     "outputs": []
    },
    {
     "cell_type": "markdown",
     "metadata": {},
     "source": [
      "create a model instance - `modflow` (free format).  envoke the external file option"
     ]
    },
    {
     "cell_type": "code",
     "collapsed": false,
     "input": [
      "model = Modflow(external_path='.')\n",
      "nrow, ncol = 10, 5\n"
     ],
     "language": "python",
     "metadata": {},
     "outputs": []
    },
    {
     "cell_type": "markdown",
     "metadata": {},
     "source": [
      "build some args for transient_2d"
     ]
    },
    {
     "cell_type": "code",
     "collapsed": false,
     "input": [
      "arr = np.ones((nrow, ncol))\n",
      "np.savetxt(\"arr.ref\",arr,fmt=\"%15.6E\",delimiter='')\n",
      "\n",
      "args = {}\n",
      "args[3] = 1.0\n",
      "args[8] = np.ones((nrow, ncol))\n",
      "args[12] = \"arr.ref\""
     ],
     "language": "python",
     "metadata": {},
     "outputs": []
    },
    {
     "cell_type": "markdown",
     "metadata": {},
     "source": [
      "instantiate `transient_2d`"
     ]
    },
    {
     "cell_type": "code",
     "collapsed": false,
     "input": [
      "t2d = transient_2d(model,(nrow, ncol), np.float32, args, name=\"rch\")"
     ],
     "language": "python",
     "metadata": {},
     "outputs": []
    },
    {
     "cell_type": "markdown",
     "metadata": {},
     "source": [
      "print out the `kper`-based file info"
     ]
    },
    {
     "cell_type": "code",
     "collapsed": false,
     "input": [
      "for kper in xrange(20):\n",
      "    itmp,file_entry = t2d.get_kper_entry(kper)\n",
      "    print itmp\n",
      "    print file_entry\n",
      "    "
     ],
     "language": "python",
     "metadata": {},
     "outputs": []
    },
    {
     "cell_type": "markdown",
     "metadata": {},
     "source": [
      "now for a model without free format or external suppport"
     ]
    },
    {
     "cell_type": "code",
     "collapsed": false,
     "input": [
      "model = Modflow()\n",
      "model.free_format = False"
     ],
     "language": "python",
     "metadata": {},
     "outputs": []
    },
    {
     "cell_type": "markdown",
     "metadata": {},
     "source": [
      "for non-freeformat models without external support, `locat` must be explicitly passed:"
     ]
    },
    {
     "cell_type": "code",
     "collapsed": false,
     "input": [
      "t2d = transient_2d(model,(nrow, ncol), np.float32, args, name=\"rch\",locat=31)"
     ],
     "language": "python",
     "metadata": {},
     "outputs": []
    },
    {
     "cell_type": "code",
     "collapsed": false,
     "input": [
      "for kper in xrange(20):\n",
      "    itmp,file_entry = t2d.get_kper_entry(kper)\n",
      "    print itmp\n",
      "    print file_entry"
     ],
     "language": "python",
     "metadata": {},
     "outputs": []
    },
    {
     "cell_type": "code",
     "collapsed": false,
     "input": [],
     "language": "python",
     "metadata": {},
     "outputs": []
    }
   ],
   "metadata": {}
  }
 ]
}